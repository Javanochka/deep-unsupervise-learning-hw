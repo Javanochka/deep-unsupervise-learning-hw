{
  "nbformat": 4,
  "nbformat_minor": 0,
  "metadata": {
    "colab": {
      "name": "hw1_3.ipynb",
      "provenance": []
    },
    "kernelspec": {
      "name": "python3",
      "display_name": "Python 3"
    },
    "accelerator": "GPU"
  },
  "cells": [
    {
      "cell_type": "markdown",
      "metadata": {
        "id": "4z2JylC6LL0R",
        "colab_type": "text"
      },
      "source": [
        "# HW 1.\n",
        "## Part 3. PixelCNN\n"
      ]
    },
    {
      "cell_type": "code",
      "metadata": {
        "id": "Is5oE2FJPyEa",
        "colab_type": "code",
        "outputId": "773cb49f-71ed-4d47-a4e5-5df6202d16b0",
        "colab": {
          "base_uri": "https://localhost:8080/",
          "height": 342
        }
      },
      "source": [
        "!wget --load-cookies /tmp/cookies.txt \"https://docs.google.com/uc?export=download&confirm=$(wget --quiet --save-cookies /tmp/cookies.txt --keep-session-cookies --no-check-certificate 'https://docs.google.com/uc?export=download&id=1hm077GxmIBP-foHxiPtTxSNy371yowk2' -O- | sed -rn 's/.*confirm=([0-9A-Za-z_]+).*/\\1\\n/p')&id=1hm077GxmIBP-foHxiPtTxSNy371yowk2\" -O mnist_hw1.pkl && rm -rf /tmp/cookies.txt\n",
        "\n",
        "#!wget --no-check-certificate 'https://docs.google.com/uc?export=download&confirm=8Qs8&id=1hm077GxmIBP-foHxiPtTxSNy371yowk2' -O mnist_hw1.pkl\n",
        "\n"
      ],
      "execution_count": 1,
      "outputs": [
        {
          "output_type": "stream",
          "text": [
            "--2019-12-23 15:43:30--  https://docs.google.com/uc?export=download&confirm=vLge&id=1hm077GxmIBP-foHxiPtTxSNy371yowk2\n",
            "Resolving docs.google.com (docs.google.com)... 172.217.12.238, 2607:f8b0:4004:807::200e\n",
            "Connecting to docs.google.com (docs.google.com)|172.217.12.238|:443... connected.\n",
            "HTTP request sent, awaiting response... 302 Moved Temporarily\n",
            "Location: https://doc-0k-4o-docs.googleusercontent.com/docs/securesc/ha0ro937gcuc7l7deffksulhg5h7mbp1/l6qvsf5jg22o57noj85tva5r7ks8qrnj/1577109600000/01992697873098230653/*/1hm077GxmIBP-foHxiPtTxSNy371yowk2?e=download [following]\n",
            "Warning: wildcards not supported in HTTP.\n",
            "--2019-12-23 15:43:30--  https://doc-0k-4o-docs.googleusercontent.com/docs/securesc/ha0ro937gcuc7l7deffksulhg5h7mbp1/l6qvsf5jg22o57noj85tva5r7ks8qrnj/1577109600000/01992697873098230653/*/1hm077GxmIBP-foHxiPtTxSNy371yowk2?e=download\n",
            "Resolving doc-0k-4o-docs.googleusercontent.com (doc-0k-4o-docs.googleusercontent.com)... 172.217.164.129, 2607:f8b0:4004:814::2001\n",
            "Connecting to doc-0k-4o-docs.googleusercontent.com (doc-0k-4o-docs.googleusercontent.com)|172.217.164.129|:443... connected.\n",
            "HTTP request sent, awaiting response... 200 OK\n",
            "Length: unspecified [application/octet-stream]\n",
            "Saving to: ‘mnist_hw1.pkl’\n",
            "\n",
            "mnist_hw1.pkl           [                <=> ] 157.01M  34.5MB/s    in 4.5s    \n",
            "\n",
            "2019-12-23 15:43:35 (34.5 MB/s) - ‘mnist_hw1.pkl’ saved [164640241]\n",
            "\n"
          ],
          "name": "stdout"
        }
      ]
    },
    {
      "cell_type": "code",
      "metadata": {
        "id": "HgvFHCFqQozz",
        "colab_type": "code",
        "colab": {}
      },
      "source": [
        "import pickle\n",
        "\n",
        "with open('mnist_hw1.pkl', 'rb') as f:\n",
        "    data_all = pickle.load(f)"
      ],
      "execution_count": 0,
      "outputs": []
    },
    {
      "cell_type": "code",
      "metadata": {
        "id": "vS_klnwZZLiW",
        "colab_type": "code",
        "colab": {
          "base_uri": "https://localhost:8080/",
          "height": 35
        },
        "outputId": "13e298a1-8d02-4212-d968-9d54f2c4a980"
      },
      "source": [
        "data_all['train'][0].shape"
      ],
      "execution_count": 3,
      "outputs": [
        {
          "output_type": "execute_result",
          "data": {
            "text/plain": [
              "(28, 28, 3)"
            ]
          },
          "metadata": {
            "tags": []
          },
          "execution_count": 3
        }
      ]
    },
    {
      "cell_type": "code",
      "metadata": {
        "id": "wxNAZKOOVgWW",
        "colab_type": "code",
        "colab": {}
      },
      "source": [
        "import torch.utils.data as data\n",
        "\n",
        "batch_size = 128\n",
        "\n",
        "def collate_fn(xs):\n",
        "    xs = torch.LongTensor(xs)\n",
        "    xs = xs.permute(0, 3, 1, 2) #colour should be the first for our model\n",
        "    return xs\n",
        "\n",
        "train_data = data.DataLoader(\n",
        "    dataset=data_all['train'],\n",
        "    batch_size=batch_size,\n",
        "    shuffle=True,\n",
        "    collate_fn=collate_fn\n",
        ")\n",
        "val_data = data.DataLoader(\n",
        "    dataset=data_all['test'],\n",
        "    batch_size=batch_size,\n",
        "    shuffle=False,\n",
        "    collate_fn=collate_fn\n",
        ")\n"
      ],
      "execution_count": 0,
      "outputs": []
    },
    {
      "cell_type": "code",
      "metadata": {
        "id": "Sv5wjSrqHBlT",
        "colab_type": "code",
        "colab": {}
      },
      "source": [
        "import torch.nn as nn\n",
        "\n",
        "class MaskedConv2d(nn.Conv2d):\n",
        "    def __init__(self, mask_type, channel_in, channel_out, kernel_size, stride, padding):\n",
        "        super(MaskedConv2d, self).__init__(channel_in, channel_out, kernel_size, stride, padding, bias=False)\n",
        "        self.mask_type = mask_type\n",
        "        channel_out, channel_in, height, width = self.weight.size()\n",
        "\n",
        "        mask = torch.ones(channel_out, channel_in, height, width)\n",
        "        \n",
        "        if mask_type == 'A':\n",
        "            mask[:, :, height // 2, width // 2:] = 0\n",
        "            mask[:, :, height // 2 + 1:] = 0\n",
        "        else:\n",
        "            mask[:, :, height // 2, width // 2 + 1:] = 0\n",
        "            mask[:, :, height // 2 + 1] = 0\n",
        "        \n",
        "        self.register_buffer('mask', mask)\n",
        "\n",
        "\n",
        "    def forward(self, x):\n",
        "        self.weight.data *= self.mask\n",
        "        return super(MaskedConv2d, self).forward(x)"
      ],
      "execution_count": 0,
      "outputs": []
    },
    {
      "cell_type": "code",
      "metadata": {
        "id": "jqM9R65zLXgQ",
        "colab_type": "code",
        "colab": {}
      },
      "source": [
        "class MaskCNNBlock(nn.Module):\n",
        "    def __init__(self, h=128):\n",
        "        super(MaskCNNBlock, self).__init__()\n",
        "\n",
        "        self.layers = nn.Sequential(\n",
        "            nn.ReLU(),\n",
        "            nn.Conv2d(2 * h, h, 1),\n",
        "            nn.BatchNorm2d(h),\n",
        "            nn.ReLU(),\n",
        "            MaskedConv2d('B', h, h, 3, 1, 1),\n",
        "            nn.BatchNorm2d(h),\n",
        "            nn.ReLU(),\n",
        "            nn.Conv2d(h, 2 * h, 1),\n",
        "            nn.BatchNorm2d(2 * h)\n",
        "        )\n",
        "\n",
        "    def forward(self, x):\n",
        "        x = self.layers(x) + x\n",
        "        return x"
      ],
      "execution_count": 0,
      "outputs": []
    },
    {
      "cell_type": "code",
      "metadata": {
        "id": "G9BF3MCtLqOt",
        "colab_type": "code",
        "colab": {}
      },
      "source": [
        "class PixelCNN(nn.Module):\n",
        "    def __init__(self, h=128):\n",
        "        super(PixelCNN, self).__init__()\n",
        "\n",
        "        layers = [MaskedConv2d('A', 3, 2 * h, 7, 1, 3)]\n",
        "        layers += [MaskCNNBlock(h) for _ in range(12)] # in the task they ask for 12 such layers\n",
        "        layers += [\n",
        "            nn.ReLU(),\n",
        "            nn.Conv2d(2 * h, 2 * h, 1),\n",
        "            nn.BatchNorm2d(2 * h),\n",
        "            nn.ReLU(),\n",
        "            nn.Conv2d(2 * h, 3 * 4, 1)\n",
        "        ]\n",
        "        self.layers = nn.Sequential(*layers)\n",
        "\n",
        "    def forward(self, x):\n",
        "        x = x.float()\n",
        "        n, c, h, w = x.shape\n",
        "        x = self.layers(x)\n",
        "        x = x.reshape(n, c, 4, h, w)\n",
        "        x = x.permute(0, 1, 3, 4, 2)\n",
        "        return x"
      ],
      "execution_count": 0,
      "outputs": []
    },
    {
      "cell_type": "code",
      "metadata": {
        "id": "LU5le89xbNC6",
        "colab_type": "code",
        "colab": {}
      },
      "source": [
        "import torch\n",
        "\n",
        "device = torch.device(\"cuda\")"
      ],
      "execution_count": 0,
      "outputs": []
    },
    {
      "cell_type": "code",
      "metadata": {
        "id": "3D3gFfv6LwtP",
        "colab_type": "code",
        "colab": {}
      },
      "source": [
        "def fit(model, train_data, val_data, optimizer, loss_function, epoch_cnt=5):\n",
        "    train_losses = []\n",
        "    val_losses = []\n",
        "\n",
        "    for epoch in range(epoch_cnt):\n",
        "        for idx, X in enumerate(train_data):\n",
        "            X = X.to(device)\n",
        "            optimizer.zero_grad()\n",
        "            result = model(X)\n",
        "            loss = loss_function(X, result)\n",
        "            train_losses.append(loss.item())\n",
        "            loss.backward()\n",
        "            optimizer.step()\n",
        "            print('\\rINFO: [Epoch %d/%d][idx %d/%d] Loss: %s'\\\n",
        "            % (epoch, epoch_cnt, idx, len(train_data), loss.item()), end=\"\")\n",
        "        with torch.no_grad():\n",
        "            for X in val_data:\n",
        "                X = X.to(device)\n",
        "                result = model(X)\n",
        "                loss = loss_function(X, result)\n",
        "                val_losses.append(loss.item())\n",
        "    return train_losses, val_losses"
      ],
      "execution_count": 0,
      "outputs": []
    },
    {
      "cell_type": "code",
      "metadata": {
        "id": "8yZs69T_cN39",
        "colab_type": "code",
        "colab": {}
      },
      "source": [
        "import torch.nn.functional as F\n",
        "\n",
        "def count_loss(x, y):\n",
        "    y = F.softmax(y, dim=-1)\n",
        "    x = F.one_hot(x, 4).float()\n",
        "    y = (x * y).sum(dim=-1)\n",
        "    loss = -torch.log(y + 1e-9)\n",
        "    loss = loss.mean()\n",
        "    return loss"
      ],
      "execution_count": 0,
      "outputs": []
    },
    {
      "cell_type": "code",
      "metadata": {
        "id": "il-6I2gMgNdN",
        "colab_type": "code",
        "colab": {}
      },
      "source": [
        "torch.cuda.empty_cache()"
      ],
      "execution_count": 0,
      "outputs": []
    },
    {
      "cell_type": "code",
      "metadata": {
        "id": "9Q6hCX1ad4H_",
        "colab_type": "code",
        "colab": {}
      },
      "source": [
        "# when it was h=128, colab said that it tried to alloc too much. Sorry :(\n",
        "model = PixelCNN(h=32)\n",
        "model = model.float()\n",
        "model = model.to(device)"
      ],
      "execution_count": 0,
      "outputs": []
    },
    {
      "cell_type": "code",
      "metadata": {
        "id": "R-9UMSUeegV0",
        "colab_type": "code",
        "colab": {}
      },
      "source": [
        "optimizer = torch.optim.Adam(model.parameters(), lr=1e-3)"
      ],
      "execution_count": 0,
      "outputs": []
    },
    {
      "cell_type": "code",
      "metadata": {
        "id": "3A5TGSPdeVw0",
        "colab_type": "code",
        "colab": {
          "base_uri": "https://localhost:8080/",
          "height": 35
        },
        "outputId": "a3d66b45-4808-4795-f8ac-2b5c9d284316"
      },
      "source": [
        "train_losses, val_losses = fit(model, train_data, val_data, optimizer, count_loss, epoch_cnt=20)"
      ],
      "execution_count": 92,
      "outputs": [
        {
          "output_type": "stream",
          "text": [
            "INFO: [Epoch 19/20][idx 468/469] Loss: 0.09140090644359589"
          ],
          "name": "stdout"
        }
      ]
    },
    {
      "cell_type": "code",
      "metadata": {
        "id": "eQq-vXNkgJ2d",
        "colab_type": "code",
        "colab": {
          "base_uri": "https://localhost:8080/",
          "height": 35
        },
        "outputId": "fdd8fde3-ab16-4f91-f1a1-49551ed2da66"
      },
      "source": [
        "# The loss looks good, though. Let's draw the pictures\n",
        "print(len(train_losses), len(val_losses))"
      ],
      "execution_count": 93,
      "outputs": [
        {
          "output_type": "stream",
          "text": [
            "9380 1580\n"
          ],
          "name": "stdout"
        }
      ]
    },
    {
      "cell_type": "code",
      "metadata": {
        "id": "I5rspf-0jfek",
        "colab_type": "code",
        "colab": {
          "base_uri": "https://localhost:8080/",
          "height": 279
        },
        "outputId": "93728d4b-6a59-45a1-d9b3-15525f2b432c"
      },
      "source": [
        "import matplotlib.pyplot as plt\n",
        "import numpy as np\n",
        "\n",
        "plt.plot(range(len(train_losses)), train_losses, label=\"train\")\n",
        "nval_losses = [np.mean(val_losses[i * 79: (i + 1) * 79]) for i in range(20)]\n",
        "plt.plot(range(len(train_losses) // 20, len(train_losses) + 1, len(train_losses) // 20), nval_losses, label=\"val\")\n",
        "plt.xlabel('step')\n",
        "plt.ylabel('loss')\n",
        "plt.legend()\n",
        "plt.show()"
      ],
      "execution_count": 94,
      "outputs": [
        {
          "output_type": "display_data",
          "data": {
            "image/png": "[encoded data removed]",
            "text/plain": [
              "<Figure size 432x288 with 1 Axes>"
            ]
          },
          "metadata": {
            "tags": []
          }
        }
      ]
    },
    {
      "cell_type": "code",
      "metadata": {
        "id": "rzQPTiE4jtLJ",
        "colab_type": "code",
        "colab": {}
      },
      "source": [
        "def draw_images(model, n=16):\n",
        "    samples = np.zeros((n, 28, 28, 3), dtype=np.uint8)\n",
        "    with torch.no_grad():\n",
        "        for y in range(28):\n",
        "            for x in range(28):\n",
        "                for c in range(3):\n",
        "                    ex = collate_fn(samples).to(device)\n",
        "                    res = model(ex)\n",
        "                    res = F.softmax(res, dim=4).cpu().numpy()\n",
        "                    for i in range(n):\n",
        "                        samples[i, y, x, c] = np.random.choice(4, p=res[i, c, y, x])\n",
        "                        \n",
        "    samples *= 85\n",
        "    \n",
        "    n = int(np.ceil(np.sqrt(n)))\n",
        "    f, axarr = plt.subplots(n, n)\n",
        "    f.set_figheight(15)\n",
        "    f.set_figwidth(15)\n",
        "    for i, img in enumerate(samples):\n",
        "        axarr[i // n, i % n].imshow(img)\n",
        "        axarr[i // n, i % n].axis('off')\n",
        "    plt.show()"
      ],
      "execution_count": 0,
      "outputs": []
    },
    {
      "cell_type": "code",
      "metadata": {
        "id": "NOA75m61qQor",
        "colab_type": "code",
        "colab": {
          "base_uri": "https://localhost:8080/",
          "height": 846
        },
        "outputId": "4746a9aa-8665-4d8e-ec8d-4d9ae2d9f257"
      },
      "source": [
        "draw_images(model)"
      ],
      "execution_count": 96,
      "outputs": [
        {
          "output_type": "display_data",
          "data": {
            "image/png": "[encoded data removed]",
            "text/plain": [
              "<Figure size 1080x1080 with 16 Axes>"
            ]
          },
          "metadata": {
            "tags": []
          }
        }
      ]
    },
    {
      "cell_type": "code",
      "metadata": {
        "id": "_7jre-DeqSIc",
        "colab_type": "code",
        "colab": {}
      },
      "source": [
        "def receptive_field(model, X, loss_function):\n",
        "    x = torch.tensor(X.numpy().astype(np.float32), requires_grad=True, device=device)\n",
        "    res = model(x)[:, 0, 14, 14]\n",
        "    \n",
        "    loss = loss_function(X[:, 0, 14, 14].cpu(), res.cpu())\n",
        "    loss.backward()\n",
        "    \n",
        "    img = x.grad.abs().sum(dim=(0, 1))\n",
        "    img = img.cpu().float().numpy()\n",
        "    \n",
        "    plt.imshow(img)\n",
        "    plt.show()"
      ],
      "execution_count": 0,
      "outputs": []
    },
    {
      "cell_type": "code",
      "metadata": {
        "id": "CPRvg-g9uBvP",
        "colab_type": "code",
        "colab": {
          "base_uri": "https://localhost:8080/",
          "height": 265
        },
        "outputId": "f5b9864f-547b-4506-cfe7-2609abcd4d50"
      },
      "source": [
        "model2 = PixelCNN(h=32)\n",
        "model2.to(device)\n",
        "X = collate_fn(data_all['test'][:20])\n",
        "receptive_field(model2, X, count_loss)"
      ],
      "execution_count": 98,
      "outputs": [
        {
          "output_type": "display_data",
          "data": {
            "image/png": "[encoded data removed]",
            "text/plain": [
              "<Figure size 432x288 with 1 Axes>"
            ]
          },
          "metadata": {
            "tags": []
          }
        }
      ]
    },
    {
      "cell_type": "code",
      "metadata": {
        "id": "I03SiX3yuYUp",
        "colab_type": "code",
        "colab": {
          "base_uri": "https://localhost:8080/",
          "height": 846
        },
        "outputId": "4149c5e6-455b-4777-c0d1-84a99be4479c"
      },
      "source": [
        "draw_images(model, n=100)"
      ],
      "execution_count": 99,
      "outputs": [
        {
          "output_type": "display_data",
          "data": {
            "image/png": "[encoded data removed]",
            "text/plain": [
              "<Figure size 1080x1080 with 100 Axes>"
            ]
          },
          "metadata": {
            "tags": []
          }
        }
      ]
    },
    {
      "cell_type": "code",
      "metadata": {
        "id": "fiYedCShwxYD",
        "colab_type": "code",
        "colab": {}
      },
      "source": [
        ""
      ],
      "execution_count": 0,
      "outputs": []
    }
  ]
}