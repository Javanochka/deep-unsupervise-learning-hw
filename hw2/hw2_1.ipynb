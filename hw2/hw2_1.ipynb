{
 "cells": [
  {
   "cell_type": "markdown",
   "metadata": {},
   "source": [
    "## HW2. Part 1. Flow models."
   ]
  },
  {
   "cell_type": "code",
   "execution_count": 1,
   "metadata": {},
   "outputs": [],
   "source": [
    "import numpy as np\n",
    "def sample_data():\n",
    "    count = 100000\n",
    "    rand = np.random.RandomState(0)\n",
    "    a = [[-1.5, 2.5]] + rand.randn(count // 3, 2) * 0.2\n",
    "    b = [[1.5, 2.5]] + rand.randn(count // 3, 2) * 0.2\n",
    "    c = np.c_[2 * np.cos(np.linspace(0, np.pi, count // 3)),\n",
    "    -np.sin(np.linspace(0, np.pi, count // 3))]\n",
    "\n",
    "    c += rand.randn(*c.shape) * 0.2\n",
    "    data_x = np.concatenate([a, b, c], axis=0)\n",
    "    data_y = np.array([0] * len(a) + [1] * len(b) + [2] * len(c))\n",
    "    perm = rand.permutation(len(data_x))\n",
    "    return data_x[perm], data_y[perm]"
   ]
  },
  {
   "cell_type": "code",
   "execution_count": 2,
   "metadata": {},
   "outputs": [],
   "source": [
    "from sklearn.model_selection import train_test_split\n",
    "\n",
    "X, y = sample_data()\n",
    "X_train, X_test, y_train, y_test = train_test_split(X, y, test_size=0.2)\n",
    "X_train, X_val, y_train, y_val = train_test_split(X_train, y_train, test_size=0.125)"
   ]
  },
  {
   "cell_type": "code",
   "execution_count": 3,
   "metadata": {},
   "outputs": [
    {
     "name": "stdout",
     "output_type": "stream",
     "text": [
      "(69999, 2) (20000, 2) (69999,) (20000,)\n",
      "(10000, 2) (10000,)\n"
     ]
    }
   ],
   "source": [
    "print(X_train.shape, X_test.shape, y_train.shape, y_test.shape)\n",
    "print(X_val.shape, y_val.shape)"
   ]
  },
  {
   "cell_type": "markdown",
   "metadata": {},
   "source": [
    "### An autoregressive flow built out of univariate mixture CDFs."
   ]
  },
  {
   "cell_type": "code",
   "execution_count": 4,
   "metadata": {},
   "outputs": [],
   "source": [
    "import torch\n",
    "import torch.nn as nn\n",
    "import torch.nn.functional as F\n",
    "\n",
    "\n",
    "# I wanted to make it universal, but did not manage what to do with different dimensions :(\n",
    "class CDFParametresFirst(nn.Module):\n",
    "    def __init__(self, k):\n",
    "        super(CDFParametresFirst, self).__init__()\n",
    "        self.pi = nn.Parameter(torch.randn(k, requires_grad=True))\n",
    "        self.mu = nn.Parameter(torch.randn(k, requires_grad=True))\n",
    "        self.sigma = nn.Parameter(torch.randn(k, requires_grad=True))\n",
    "        self.softmax = nn.Softmax(dim=-1)\n",
    "\n",
    "    def forward(self, x):\n",
    "        pi = self.softmax(self.pi)\n",
    "        mu = self.mu\n",
    "        # That is because I need sigma^2 > 0 strictly...\n",
    "        sigma = F.relu(self.sigma) + 0.1\n",
    "        \n",
    "        return pi, mu, sigma\n",
    "\n",
    "class CDFParametresSecond(nn.Module):\n",
    "    def __init__(self, k, hidden_size):\n",
    "        super(CDFParametresSecond, self).__init__()\n",
    "\n",
    "        self.pi = nn.Sequential(nn.Linear(1, hidden_size),\n",
    "                                nn.ReLU(),\n",
    "                                nn.Linear(hidden_size, k),\n",
    "                                nn.Softmax(dim=1))\n",
    "        self.mu = nn.Sequential(nn.Linear(1, hidden_size),\n",
    "                                nn.ReLU(),\n",
    "                                nn.Linear(hidden_size, k))\n",
    "        self.sigma = nn.Sequential(nn.Linear(1, hidden_size),\n",
    "                                   nn.ReLU(),\n",
    "                                   nn.Linear(hidden_size, k))\n",
    "\n",
    "    def forward(self, x):\n",
    "        pi = self.pi(x)\n",
    "        mu = self.mu(x)\n",
    "        sigma = F.relu(self.sigma(x)) + 0.1\n",
    "        \n",
    "        return pi, mu, sigma"
   ]
  },
  {
   "cell_type": "code",
   "execution_count": 5,
   "metadata": {},
   "outputs": [],
   "source": [
    "from torch.distributions import Normal, Uniform\n",
    "\n",
    "\n",
    "class AutoregressiveFlow(nn.Module):\n",
    "    def __init__(self, k, hidden_size):\n",
    "        super(AutoregressiveFlow, self).__init__()\n",
    "        self.k = k\n",
    "        self.params1 = CDFParametresFirst(k)\n",
    "        self.params2 = CDFParametresSecond(k, hidden_size)\n",
    "\n",
    "    def forward(self, x):\n",
    "        x1, x2 = x[:, 0], x[:, 1]\n",
    "\n",
    "        pi1, mu1, sigma1 = self.params1(x1.view(-1, 1))\n",
    "        pi2, mu2, sigma2 = self.params2(x1.view(-1, 1))\n",
    "\n",
    "        p1 = torch.zeros(x.shape[0])\n",
    "        p2 = torch.zeros(x.shape[0])\n",
    "        \n",
    "        \n",
    "        for i in range(self.k):\n",
    "            p1 += pi1[i] * Normal(mu1[i], sigma1[i]).log_prob(x1).exp()\n",
    "            p2 += pi2[:, i] * Normal(mu2[:, i], sigma2[:, i]).log_prob(x2).exp()\n",
    "\n",
    "        return p1 * p2\n",
    "\n",
    "    def latent(self, x):\n",
    "        x1, x2 = x[:, 0], x[:, 1]\n",
    "\n",
    "        pi1, mu1, sigma1 = self.params1(x1.view(-1, 1))\n",
    "        pi2, mu2, sigma2 = self.params2(x1.view(-1, 1))\n",
    "\n",
    "        z1 = torch.zeros(x.shape[0])\n",
    "        z2 = torch.zeros(x.shape[0])\n",
    "            \n",
    "        for i in range(self.k):\n",
    "            z1 += pi1[i] * Normal(mu1[i], sigma1[i]).cdf(x1)\n",
    "            z2 += pi2[:, i] * Normal(mu2[:, i], sigma2[:, i]).cdf(x2)\n",
    "\n",
    "        return z1, z2\n",
    "\n",
    "    def inverse(self, z):\n",
    "        z1, z2 = z[:, 0], z[:, 1]\n",
    "\n",
    "        pi1, mu1, sigma1 = self.params1(z1.view(-1, 1))\n",
    "        x1 = torch.zeros(z.shape[0])\n",
    "        for i in range(z.shape[0]):\n",
    "            j = np.random.choice(self.k, p=pi1.detach().numpy())\n",
    "            x1[i] = Normal(mu1[j], sigma1[j]).icdf(z1[i])\n",
    "\n",
    "        pi2, mu2, sigma2 = self.params2(x1.view(-1, 1))\n",
    "        x2 = torch.zeros(z.shape[0])\n",
    "        for i in range(z.shape[0]):\n",
    "            j = np.random.choice(self.k, p=pi2[i].detach().numpy())\n",
    "            x2[i] = Normal(mu2[i, j], sigma2[i, j]).icdf(z2[i])\n",
    "\n",
    "        return x1, x2\n"
   ]
  },
  {
   "cell_type": "code",
   "execution_count": 6,
   "metadata": {},
   "outputs": [],
   "source": [
    "def NLLLoss(y):\n",
    "    return -torch.mean(torch.log(y)) / 2"
   ]
  },
  {
   "cell_type": "code",
   "execution_count": 7,
   "metadata": {},
   "outputs": [],
   "source": [
    "def fit(model, train, val, test, optimizer, loss_function, epoch_cnt, batch_size):\n",
    "    train_loader = torch.utils.data.DataLoader(torch.from_numpy(train), batch_size=batch_size, shuffle=True)\n",
    "    val_loader = torch.utils.data.DataLoader(torch.from_numpy(val), batch_size=batch_size)\n",
    "    test_loader = torch.utils.data.DataLoader(torch.from_numpy(test), batch_size=batch_size)\n",
    "    train_losses = {}\n",
    "    val_losses = {}\n",
    "    global_step = 0\n",
    "    \n",
    "    for epoch in range(epoch_cnt):\n",
    "        for idx, train_batch in enumerate(train_loader):\n",
    "            optimizer.zero_grad()\n",
    "            output = model(train_batch.float())\n",
    "            loss = loss_function(output)\n",
    "            loss.backward()\n",
    "\n",
    "            optimizer.step()\n",
    "\n",
    "            train_losses[global_step] = loss.item()\n",
    "            global_step += 1\n",
    "\n",
    "            print('\\rINFO: [Epoch %d/%d][idx %d/%d][Global Step: %d] Loss: %s'\\\n",
    "                % (epoch, epoch_cnt, idx, len(train_loader), global_step, loss.item()), end=\"\")\n",
    "\n",
    "        model.eval()\n",
    "        loss_values = []\n",
    "        for idx, val_batch in enumerate(val_loader):\n",
    "            output = model(val_batch.float())\n",
    "            val_loss = loss_function(output)\n",
    "            loss_values.append(val_loss.item())\n",
    "        val_losses[global_step] = np.mean(np.array(loss_values))\n",
    "        model.train()\n",
    "    model.eval()        \n",
    "    loss_values = []\n",
    "    for batch_data in test_loader:\n",
    "        output = model(batch_data.float())\n",
    "        loss = loss_function(output)\n",
    "        loss_values.append(loss.item())\n",
    "\n",
    "    print(\"\\nTest set loss: {:.4f}\".format(np.mean(np.array(loss_values))))\n",
    "    \n",
    "    return train_losses, val_losses"
   ]
  },
  {
   "cell_type": "code",
   "execution_count": 8,
   "metadata": {},
   "outputs": [],
   "source": [
    "model = AutoregressiveFlow(8, 200)\n",
    "optimizer = torch.optim.Adam(model.parameters(), lr=0.001)"
   ]
  },
  {
   "cell_type": "code",
   "execution_count": 9,
   "metadata": {},
   "outputs": [
    {
     "name": "stdout",
     "output_type": "stream",
     "text": [
      "INFO: [Epoch 9/10][idx 136/137][Global Step: 1370] Loss: 0.6884577870368958\n",
      "Test set loss: 0.7040\n"
     ]
    }
   ],
   "source": [
    "train_loss_values, val_loss_values =\\\n",
    "    fit(model, X_train, X_val, X_test, optimizer, NLLLoss, 10, 512)"
   ]
  },
  {
   "cell_type": "code",
   "execution_count": 10,
   "metadata": {},
   "outputs": [],
   "source": [
    "import matplotlib.pyplot as plt\n",
    "\n",
    "def plot_val_train(val_losses, train_losses):\n",
    "    val_x_vals = val_losses.keys()\n",
    "    val_y_vals = val_losses.values()\n",
    "\n",
    "    # Plot the graphs\n",
    "    plt.xlabel('Num Steps')\n",
    "    plt.ylabel('Negative Log Likelihood')\n",
    "    train_x_vals = sorted(train_losses.keys())\n",
    "    train_y_vals = [train_losses[k] for k in train_x_vals]\n",
    "    val_x_vals = sorted(val_losses.keys())\n",
    "    val_y_vals = [val_losses[k] for k in val_x_vals]\n",
    "\n",
    "    plt.plot(train_x_vals, train_y_vals, label='train')\n",
    "    plt.plot(val_x_vals, val_y_vals, label='val')\n",
    "\n",
    "    plt.legend(loc='best')\n",
    "    plt.show()"
   ]
  },
  {
   "cell_type": "code",
   "execution_count": 11,
   "metadata": {},
   "outputs": [
    {
     "data": {
      "image/png": "[encoded data removed]",
      "text/plain": [
       "<Figure size 432x288 with 1 Axes>"
      ]
     },
     "metadata": {
      "needs_background": "light"
     },
     "output_type": "display_data"
    }
   ],
   "source": [
    "plot_val_train(val_loss_values, train_loss_values)"
   ]
  },
  {
   "cell_type": "code",
   "execution_count": 12,
   "metadata": {},
   "outputs": [
    {
     "data": {
      "text/plain": [
       "<matplotlib.collections.PathCollection at 0x7fbfeb73f438>"
      ]
     },
     "execution_count": 12,
     "metadata": {},
     "output_type": "execute_result"
    },
    {
     "data": {
      "image/png": "[encoded data removed]",
      "text/plain": [
       "<Figure size 432x288 with 1 Axes>"
      ]
     },
     "metadata": {
      "needs_background": "light"
     },
     "output_type": "display_data"
    }
   ],
   "source": [
    "low = torch.tensor([0.0])\n",
    "high = torch.tensor([1.0])\n",
    "z = Uniform(low, high).rsample((10000, 2))\n",
    "x1, x2 = model.inverse(z)\n",
    "x1 = x1.detach().numpy()\n",
    "x2 = x2.detach().numpy()\n",
    "plt.figure()\n",
    "plt.scatter(x1, x2)"
   ]
  },
  {
   "cell_type": "code",
   "execution_count": 13,
   "metadata": {},
   "outputs": [
    {
     "data": {
      "text/plain": [
       "<matplotlib.image.AxesImage at 0x7fbfeb72d4e0>"
      ]
     },
     "execution_count": 13,
     "metadata": {},
     "output_type": "execute_result"
    },
    {
     "data": {
      "image/png": "[encoded data removed]",
      "text/plain": [
       "<Figure size 432x288 with 1 Axes>"
      ]
     },
     "metadata": {
      "needs_background": "light"
     },
     "output_type": "display_data"
    }
   ],
   "source": [
    "d = np.linspace(-4, 4, 100)\n",
    "samples = np.array(np.meshgrid(d, d)).T.reshape([-1, 2])\n",
    "samples = torch.from_numpy(samples).float()\n",
    "pdf = model(samples).detach().numpy().reshape(100, 100)\n",
    "plt.imshow(np.rot90(pdf, 1))\n"
   ]
  },
  {
   "cell_type": "code",
   "execution_count": 14,
   "metadata": {},
   "outputs": [
    {
     "data": {
      "text/plain": [
       "<matplotlib.legend.Legend at 0x7fbfeb693748>"
      ]
     },
     "execution_count": 14,
     "metadata": {},
     "output_type": "execute_result"
    },
    {
     "data": {
      "image/png": "[encoded data removed]",
      "text/plain": [
       "<Figure size 432x288 with 1 Axes>"
      ]
     },
     "metadata": {
      "needs_background": "light"
     },
     "output_type": "display_data"
    }
   ],
   "source": [
    "x = torch.from_numpy(X).float()\n",
    "z1, z2 = model.latent(x)\n",
    "z1 = z1.detach().numpy()\n",
    "z2 = z2.detach().numpy()\n",
    "plt.figure()\n",
    "plt.scatter(z1[y == 0], z2[y == 0], label='0')\n",
    "plt.scatter(z1[y == 1], z2[y == 1], label='1')\n",
    "plt.scatter(z1[y == 2], z2[y == 2], label='2')\n",
    "plt.legend()"
   ]
  },
  {
   "cell_type": "markdown",
   "metadata": {},
   "source": [
    "### A realNVP-like model\n",
    "\n",
    "So, here will be several flows with coupling between them..."
   ]
  },
  {
   "cell_type": "code",
   "execution_count": 15,
   "metadata": {},
   "outputs": [],
   "source": [
    "class CouplingLayer(nn.Module):\n",
    "    def __init__(self, mask, hidden_size=100):\n",
    "        super(CouplingLayer, self).__init__()\n",
    "        \n",
    "        self.mask = mask.clone().float()\n",
    "        \n",
    "        self.w = nn.Sequential(nn.Linear(2, hidden_size),\n",
    "                               nn.ReLU(),\n",
    "                               nn.Linear(hidden_size, 2),\n",
    "                               nn.Tanh())\n",
    "        self.b = nn.Sequential(nn.Linear(2, hidden_size),\n",
    "                               nn.ReLU(),\n",
    "                               nn.Linear(hidden_size, 2))\n",
    "        \n",
    "    def forward(self, x):\n",
    "        z = self.mask * x\n",
    "        w = self.w(z)\n",
    "        b = self.b(z)\n",
    "        log_det = torch.sum((1 - self.mask) * w, dim=1, keepdim=True)\n",
    "        return log_det\n",
    "    \n",
    "    def latent(self, x):\n",
    "        z = self.mask * x\n",
    "        w = self.w(z)\n",
    "        b = self.b(z)\n",
    "        z = z + (1 - self.mask) * (x * torch.exp(w) + b)\n",
    "        return z\n",
    "    \n",
    "    def inverse(self, x):\n",
    "        z = self.mask * x\n",
    "        w = self.w(z)\n",
    "        b = self.b(z)\n",
    "        z = z + (1 - self.mask) * (x - b) * torch.exp(-w)\n",
    "        return z"
   ]
  },
  {
   "cell_type": "code",
   "execution_count": 16,
   "metadata": {},
   "outputs": [],
   "source": [
    "class NormLayer(nn.Module):\n",
    "    EPS = 1e-9\n",
    "    \n",
    "    def __init__(self, size):\n",
    "        super(NormLayer, self).__init__()\n",
    "        \n",
    "        self.w = nn.Parameter(torch.ones([1, size], dtype=torch.float32))\n",
    "        self.b = nn.Parameter(torch.zeros([1, size], dtype=torch.float32))\n",
    "        \n",
    "    def forward(self, x):\n",
    "        x = x * self.w + self.b\n",
    "        log_det = torch.log(self.w.abs() + NormLayer.EPS).sum(dim=1, keepdim=True)\n",
    "        return log_det\n",
    "    \n",
    "    def latent(self, x):\n",
    "        x = x * self.w + self.b\n",
    "        return x\n",
    "    \n",
    "    def inverse(self, x):\n",
    "        x = (x - self.b) / self.w\n",
    "        return x"
   ]
  },
  {
   "cell_type": "code",
   "execution_count": 36,
   "metadata": {},
   "outputs": [],
   "source": [
    "class RealNVPLike(nn.Module):\n",
    "    def __init__(self, n=5, hidden_size=100):\n",
    "        super(RealNVPLike, self).__init__()\n",
    "\n",
    "        mask = torch.tensor([[1, 0]], dtype=torch.float32)\n",
    "        \n",
    "        self.n = n\n",
    "        self.layers = nn.ModuleList()\n",
    "        for i in range(n):\n",
    "            self.layers.append(CouplingLayer(mask, hidden_size))\n",
    "            if i + 1 < n:\n",
    "                self.layers.append(NormLayer(2))\n",
    "                mask = 1 - mask\n",
    "      \n",
    "    def forward(self, x):\n",
    "        log_det = torch.zeros([x.shape[0], 1], dtype=torch.float32)\n",
    "        for layer in self.layers:\n",
    "            nx, nlog = layer.latent(x), layer(x)\n",
    "            log_det += nlog\n",
    "            x = nx\n",
    "        x = torch.sigmoid(x)\n",
    "        log_det = log_det + torch.log((x * (1 - x) + 1e-9)).sum(dim=1, keepdim=True)\n",
    "        return torch.exp(log_det)\n",
    "    \n",
    "    def latent(self, x):\n",
    "        for layer in self.layers:\n",
    "            x = layer.latent(x)\n",
    "        x = torch.sigmoid(x)\n",
    "\n",
    "        return x\n",
    "\n",
    "    def inverse(self, z):\n",
    "        x = -torch.log(1 / z - 1)\n",
    "        for layer in reversed(self.layers):\n",
    "            x = layer.inverse(x)\n",
    "        return x\n"
   ]
  },
  {
   "cell_type": "code",
   "execution_count": 42,
   "metadata": {},
   "outputs": [],
   "source": [
    "model = RealNVPLike()\n",
    "model = model.float()\n",
    "optimizer = torch.optim.Adam(model.parameters(), lr=0.001)\n"
   ]
  },
  {
   "cell_type": "code",
   "execution_count": 43,
   "metadata": {},
   "outputs": [
    {
     "name": "stdout",
     "output_type": "stream",
     "text": [
      "INFO: [Epoch 9/10][idx 136/137][Global Step: 1370] Loss: 0.7660690546035767\n",
      "Test set loss: 0.7958\n"
     ]
    }
   ],
   "source": [
    "train_loss_values, val_loss_values =\\\n",
    "    fit(model, X_train, X_val, X_test, optimizer, NLLLoss, 10, 512)"
   ]
  },
  {
   "cell_type": "code",
   "execution_count": 44,
   "metadata": {},
   "outputs": [
    {
     "data": {
      "image/png": "[encoded data removed]",
      "text/plain": [
       "<Figure size 432x288 with 1 Axes>"
      ]
     },
     "metadata": {
      "needs_background": "light"
     },
     "output_type": "display_data"
    }
   ],
   "source": [
    "plot_val_train(val_loss_values, train_loss_values)"
   ]
  },
  {
   "cell_type": "code",
   "execution_count": 45,
   "metadata": {},
   "outputs": [
    {
     "data": {
      "text/plain": [
       "<matplotlib.image.AxesImage at 0x7fbfeb0685c0>"
      ]
     },
     "execution_count": 45,
     "metadata": {},
     "output_type": "execute_result"
    },
    {
     "data": {
      "image/png": "[encoded data removed]",
      "text/plain": [
       "<Figure size 432x288 with 1 Axes>"
      ]
     },
     "metadata": {
      "needs_background": "light"
     },
     "output_type": "display_data"
    }
   ],
   "source": [
    "d = np.linspace(-4, 4, 100)\n",
    "samples = np.array(np.meshgrid(d, d)).T.reshape([-1, 2])\n",
    "samples = torch.from_numpy(samples).float()\n",
    "z = model(samples).detach().numpy()\n",
    "pdf = z.reshape(100, 100)\n",
    "plt.imshow(np.rot90(pdf, 1))\n"
   ]
  },
  {
   "cell_type": "code",
   "execution_count": null,
   "metadata": {},
   "outputs": [
    {
     "data": {
      "text/plain": [
       "<matplotlib.legend.Legend at 0x7fbfeb2f9a90>"
      ]
     },
     "execution_count": 46,
     "metadata": {},
     "output_type": "execute_result"
    }
   ],
   "source": [
    "x = torch.from_numpy(X).float()\n",
    "z = model.latent(x)\n",
    "z1, z2 = z[:, 0], z[:, 1]\n",
    "z1 = z1.detach().numpy()\n",
    "z2 = z2.detach().numpy()\n",
    "plt.figure()\n",
    "plt.scatter(z1[y == 0], z2[y == 0], label='0')\n",
    "plt.scatter(z1[y == 1], z2[y == 1], label='1')\n",
    "plt.scatter(z1[y == 2], z2[y == 2], label='2')\n",
    "plt.legend()"
   ]
  },
  {
   "cell_type": "code",
   "execution_count": null,
   "metadata": {},
   "outputs": [],
   "source": []
  }
 ],
 "metadata": {
  "kernelspec": {
   "display_name": "Python 3",
   "language": "python",
   "name": "python3"
  },
  "language_info": {
   "codemirror_mode": {
    "name": "ipython",
    "version": 3
   },
   "file_extension": ".py",
   "mimetype": "text/x-python",
   "name": "python",
   "nbconvert_exporter": "python",
   "pygments_lexer": "ipython3",
   "version": "3.7.3"
  }
 },
 "nbformat": 4,
 "nbformat_minor": 2
}
